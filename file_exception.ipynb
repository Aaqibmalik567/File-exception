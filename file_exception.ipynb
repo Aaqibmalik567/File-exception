{
  "nbformat": 4,
  "nbformat_minor": 0,
  "metadata": {
    "colab": {
      "provenance": []
    },
    "kernelspec": {
      "name": "python3",
      "display_name": "Python 3"
    },
    "language_info": {
      "name": "python"
    }
  },
  "cells": [
    {
      "cell_type": "markdown",
      "source": [
        "Thanks! Here's a **detailed answer for each of the first 25 theory questions** from your document, keeping it well-explained and still readable:\n",
        "\n",
        "---\n",
        "\n",
        "### **1. What is the difference between interpreted and compiled languages?**\n",
        "\n",
        "**Interpreted languages** (like Python) execute code line-by-line using an interpreter at runtime. This allows for easier debugging and platform independence but may be slower.\n",
        "**Compiled languages** (like C or Java) require code to be translated into machine language by a compiler before execution. This generally results in faster performance but less flexibility during development.\n",
        "\n",
        "---\n",
        "\n",
        "### **2. What is exception handling in Python?**\n",
        "\n",
        "Exception handling is a mechanism that allows developers to gracefully handle runtime errors and take appropriate actions without crashing the program. It uses blocks like `try`, `except`, `else`, and `finally` to detect and respond to different types of errors (e.g., `ZeroDivisionError`, `FileNotFoundError`).\n",
        "\n",
        "---\n",
        "\n",
        "### **3. What is the purpose of the finally block in exception handling?**\n",
        "\n",
        "The `finally` block contains code that is always executed, regardless of whether an exception occurred or not. It is often used for cleaning up resources like closing a file or releasing memory, ensuring that cleanup code runs no matter what happens in the `try` or `except` blocks.\n",
        "\n",
        "---\n",
        "\n",
        "### **4. What is logging in Python?**\n",
        "\n",
        "Logging is the process of recording messages or data during the execution of a program. Python’s `logging` module provides functions to log messages at different severity levels (e.g., INFO, WARNING, ERROR). Logging is more flexible and robust than print statements and is commonly used in production code to trace issues or monitor application behavior.\n",
        "\n",
        "---\n",
        "\n",
        "### **5. What is the significance of the `__del__` method in Python?**\n",
        "\n",
        "The `__del__` method is called when an object is about to be destroyed (usually when there are no more references to it). It's often used to free resources or perform cleanup tasks. However, it's not recommended for critical cleanup because the exact time of its call is unpredictable due to Python’s garbage collection.\n",
        "\n",
        "---\n",
        "\n",
        "### **6. What is the difference between `import` and `from ... import` in Python?**\n",
        "\n",
        "* `import module_name` imports the whole module, and you access its content using `module_name.function()`.\n",
        "* `from module_name import function` imports only the specific function or class, allowing direct use without the module prefix.\n",
        "  Example:\n",
        "\n",
        "```python\n",
        "import math  \n",
        "math.sqrt(4)  \n",
        "\n",
        "from math import sqrt  \n",
        "sqrt(4)\n",
        "```\n",
        "\n",
        "---\n",
        "\n",
        "### **7. How can you handle multiple exceptions in Python?**\n",
        "\n",
        "You can use multiple `except` blocks to catch specific exceptions separately:\n",
        "\n",
        "```python\n",
        "try:  \n",
        "    # risky code  \n",
        "except ValueError:  \n",
        "    print(\"Value error\")  \n",
        "except ZeroDivisionError:  \n",
        "    print(\"Division error\")\n",
        "```\n",
        "\n",
        "Alternatively, you can catch multiple exceptions in one block using a tuple:\n",
        "\n",
        "```python\n",
        "except (ValueError, ZeroDivisionError) as e:\n",
        "    print(e)\n",
        "```\n",
        "\n",
        "---\n",
        "\n",
        "### **8. What is the purpose of the `with` statement when handling files in Python?**\n",
        "\n",
        "The `with` statement is used for resource management, especially file handling. It ensures that the file is properly closed after its suite finishes execution, even if an error occurs.\n",
        "Example:\n",
        "\n",
        "```python\n",
        "with open(\"file.txt\", \"r\") as f:  \n",
        "    data = f.read()\n",
        "```\n",
        "\n",
        "This is better than manually calling `f.close()`.\n",
        "\n",
        "---\n",
        "\n",
        "### **9. What is the difference between multithreading and multiprocessing?**\n",
        "\n",
        "* **Multithreading**: Multiple threads run within the same process. Useful for I/O-bound tasks, like reading files or web scraping.\n",
        "* **Multiprocessing**: Multiple processes run with separate memory. Ideal for CPU-bound tasks like computations.\n",
        "  Python has a Global Interpreter Lock (GIL), so multiprocessing often provides better performance in CPU-intensive tasks.\n",
        "\n",
        "---\n",
        "\n",
        "### **10. What are the advantages of using logging in a program?**\n",
        "\n",
        "* Helps in tracking events and errors without halting the program\n",
        "* Allows logging at different severity levels\n",
        "* Supports writing logs to files, making debugging easier\n",
        "* Can be turned on or off or redirected to different outputs\n",
        "\n",
        "---\n",
        "\n",
        "### **11. What is memory management in Python?**\n",
        "\n",
        "Python uses **automatic memory management**, including reference counting and garbage collection. It keeps track of all references to an object and frees memory when the reference count reaches zero. The `gc` module helps in collecting objects involved in circular references.\n",
        "\n",
        "---\n",
        "\n",
        "### **12. What are the basic steps involved in exception handling in Python?**\n",
        "\n",
        "1. Use a `try` block to enclose code that might raise an exception.\n",
        "2. Use `except` to catch and handle specific exceptions.\n",
        "3. Use `else` to run code if no exception occurs.\n",
        "4. Use `finally` for cleanup, regardless of what happened.\n",
        "   Example:\n",
        "\n",
        "```python\n",
        "try:\n",
        "    x = 1 / 0\n",
        "except ZeroDivisionError:\n",
        "    print(\"Cannot divide by zero\")\n",
        "else:\n",
        "    print(\"No error\")\n",
        "finally:\n",
        "    print(\"Done\")\n",
        "```\n",
        "\n",
        "---\n",
        "\n",
        "### **13. Why is memory management important in Python?**\n",
        "\n",
        "Proper memory management prevents memory leaks, improves performance, and avoids crashes. Since Python applications can grow large and dynamic, it's critical to ensure unused objects are released promptly.\n",
        "\n",
        "---\n",
        "\n",
        "### **14. What is the role of `try` and `except` in exception handling?**\n",
        "\n",
        "* `try` identifies code that may raise an exception.\n",
        "* `except` catches and handles specific exceptions.\n",
        "  This structure prevents the entire program from crashing and allows for graceful error recovery.\n",
        "\n",
        "---\n",
        "\n",
        "### **15. How does Python's garbage collection system work?**\n",
        "\n",
        "Python primarily uses **reference counting**. Each object keeps count of references. When count reaches zero, it’s deleted.\n",
        "Python also has a cyclic garbage collector (`gc` module) that detects and collects objects involved in circular references which reference counting alone cannot handle.\n",
        "\n",
        "---\n",
        "\n",
        "### **16. What is the purpose of the `else` block in exception handling?**\n",
        "\n",
        "The `else` block runs if no exception is raised in the `try` block. It’s useful to separate successful logic from exception handling, improving code clarity.\n",
        "\n",
        "---\n",
        "\n",
        "### **17. What are the common logging levels in Python?**\n",
        "\n",
        "From lowest to highest severity:\n",
        "\n",
        "* DEBUG\n",
        "* INFO\n",
        "* WARNING\n",
        "* ERROR\n",
        "* CRITICAL\n",
        "\n",
        "---\n",
        "\n",
        "### **18. What is the difference between `os.fork()` and `multiprocessing` in Python?**\n",
        "\n",
        "* `os.fork()` is a low-level system call available only on Unix/Linux; it duplicates the current process.\n",
        "* `multiprocessing` is a high-level, cross-platform Python module that allows you to spawn separate processes and avoid issues with the GIL.\n",
        "\n",
        "---\n",
        "\n",
        "### **19. What is the importance of closing a file in Python?**\n",
        "\n",
        "Closing a file:\n",
        "\n",
        "* Releases system resources\n",
        "* Ensures data is fully written (especially in write mode)\n",
        "* Prevents data corruption\n",
        "  Using `with open()` is preferred as it auto-closes the file.\n",
        "\n",
        "---\n",
        "\n",
        "### **20. What is the difference between `file.read()` and `file.readline()` in Python?**\n",
        "\n",
        "* `read()` reads the entire file as a string.\n",
        "* `readline()` reads one line at a time, useful for large files.\n",
        "\n",
        "---\n",
        "\n",
        "### **21. What is the logging module in Python used for?**\n",
        "\n",
        "The `logging` module provides tools for tracking events during runtime. It allows messages to be recorded with time stamps, levels, and optional file output. It is more powerful and configurable than print statements.\n",
        "\n",
        "---\n",
        "\n",
        "### **22. What is the os module in Python used for in file handling?**\n",
        "\n",
        "The `os` module provides tools for interacting with the operating system, such as:\n",
        "\n",
        "* Checking file existence (`os.path.exists`)\n",
        "* Creating or deleting files/folders\n",
        "* Navigating directories\n",
        "* Fetching file paths\n",
        "\n",
        "---\n",
        "\n",
        "### **23. What are the challenges associated with memory management in Python?**\n",
        "\n",
        "* **Circular references**: when two objects refer to each other, causing reference count not to reach zero.\n",
        "* **Large object graphs**: slow collection and memory leaks\n",
        "* **Unreleased resources**: if `__del__` is not handled well, memory may not be freed\n",
        "\n",
        "---\n",
        "\n",
        "### **24. How do you raise an exception manually in Python?**\n",
        "\n",
        "Use the `raise` keyword:\n",
        "\n",
        "```python\n",
        "raise ValueError(\"Invalid input\")\n",
        "```\n",
        "\n",
        "You can raise any built-in or custom exception.\n",
        "\n",
        "---\n",
        "\n",
        "### **25. Why is it important to use multithreading in certain applications?**\n",
        "\n",
        "Multithreading allows concurrent execution of tasks, which is useful for:\n",
        "\n",
        "* Improving performance in I/O-bound operations\n",
        "* Keeping applications responsive (e.g., GUIs or network servers)\n",
        "* Efficiently handling many short-lived tasks\n",
        "\n"
      ],
      "metadata": {
        "id": "Rs4kSuOTlg7X"
      }
    },
    {
      "cell_type": "code",
      "source": [
        "\n",
        "### 1. How can you open a file for writing in Python and write a string to it?\n",
        "\n",
        "with open(\"output.txt\", \"w\") as file:\n",
        "    file.write(\"Hello, this is a test string.\")\n"
      ],
      "metadata": {
        "id": "TxFgIfHx3X_P"
      },
      "execution_count": null,
      "outputs": []
    },
    {
      "cell_type": "code",
      "source": [
        "\n",
        "### 2. Write a Python program to read the contents of a file and print each line\n",
        "\n",
        "\n",
        "with open(\"sample.txt\", \"r\") as file:\n",
        "    for line in file:\n",
        "        print(line.strip())"
      ],
      "metadata": {
        "id": "_dNMAaYS3quF"
      },
      "execution_count": null,
      "outputs": []
    },
    {
      "cell_type": "code",
      "source": [
        "\n",
        "### 3. How would you handle a case where the file doesn't exist while trying to open it for reading?\n",
        "\n",
        "\n",
        "try:\n",
        "    with open(\"nofile.txt\", \"r\") as file:\n",
        "        content = file.read()\n",
        "except FileNotFoundError:\n",
        "    print(\"The file does not exist.\")\n"
      ],
      "metadata": {
        "id": "luBJFvUx3tSd"
      },
      "execution_count": null,
      "outputs": []
    },
    {
      "cell_type": "code",
      "source": [
        "\n",
        "### 4. Write a Python script that reads from one file and writes its content to another file\n",
        "\n",
        "\n",
        "with open(\"source.txt\", \"r\") as source:\n",
        "    content = source.read()\n",
        "\n",
        "with open(\"destination.txt\", \"w\") as dest:\n",
        "    dest.write(content)\n"
      ],
      "metadata": {
        "id": "WaO-Z7fg3yIO"
      },
      "execution_count": null,
      "outputs": []
    },
    {
      "cell_type": "code",
      "source": [
        "\n",
        "### 5. How would you catch and handle division by zero error in Python?\n",
        "\n",
        "try:\n",
        "    result = 10 / 0\n",
        "except ZeroDivisionError:\n",
        "    print(\"Division by zero is not allowed.\")"
      ],
      "metadata": {
        "id": "TtVylRZN3zGX"
      },
      "execution_count": null,
      "outputs": []
    },
    {
      "cell_type": "code",
      "source": [
        "\n",
        "### 6. Write a Python program that logs an error message to a log file when a division by zero exception occurs\n",
        "\n",
        "\n",
        "import logging\n",
        "\n",
        "logging.basicConfig(filename=\"error.log\", level=logging.ERROR)\n",
        "\n",
        "try:\n",
        "    x = 1 / 0\n",
        "except ZeroDivisionError as e:\n",
        "    logging.error(\"Division by zero error occurred: %s\", e)"
      ],
      "metadata": {
        "id": "68nPmpxy32EF"
      },
      "execution_count": null,
      "outputs": []
    },
    {
      "cell_type": "code",
      "source": [
        "\n",
        "\n",
        "### 7. How do you log information at different levels (INFO, ERROR, WARNING) in Python using the logging module?\n",
        "\n",
        "\n",
        "import logging\n",
        "\n",
        "logging.basicConfig(level=logging.DEBUG, filename=\"app.log\")\n",
        "\n",
        "logging.info(\"This is an informational message\")\n",
        "logging.warning(\"This is a warning\")\n",
        "logging.error(\"This is an error\")\n",
        "```"
      ],
      "metadata": {
        "id": "duljnEwl34v9"
      },
      "execution_count": null,
      "outputs": []
    },
    {
      "cell_type": "code",
      "source": [
        "### 8. Write a program to handle a file opening error using exception handling\n",
        "\n",
        "\n",
        "try:\n",
        "    with open(\"nonexistent.txt\", \"r\") as f:\n",
        "        data = f.read()\n",
        "except FileNotFoundError:\n",
        "    print(\"File could not be opened because it does not exist.\")"
      ],
      "metadata": {
        "id": "QHlok6ym37bd"
      },
      "execution_count": null,
      "outputs": []
    },
    {
      "cell_type": "code",
      "source": [
        "\n",
        "### 9. How can you read a file line by line and store its content in a list in Python?\n",
        "\n",
        "with open(\"sample.txt\", \"r\") as file:\n",
        "    lines = file.readlines()\n",
        "\n",
        "lines = [line.strip() for line in lines]\n",
        "print(lines)\n"
      ],
      "metadata": {
        "id": "0V9YC5Jk39-1"
      },
      "execution_count": null,
      "outputs": []
    },
    {
      "cell_type": "code",
      "source": [
        "\n",
        "### 10. How can you append data to an existing file in Python?\n",
        "\n",
        "\n",
        "with open(\"log.txt\", \"a\") as file:\n",
        "    file.write(\"Appended this line.\\n\")"
      ],
      "metadata": {
        "id": "u3hyYh3R4BfO"
      },
      "execution_count": null,
      "outputs": []
    },
    {
      "cell_type": "code",
      "source": [
        "### 11. Write a Python program that uses a try-except block to handle an error when attempting to access a dictionary key that doesn't exist\n",
        "\n",
        "\n",
        "data = {\"name\": \"Alice\"}\n",
        "\n",
        "try:\n",
        "    print(data[\"age\"])\n",
        "except KeyError:\n",
        "    print(\"Key 'age' not found in dictionary.\")"
      ],
      "metadata": {
        "id": "l-lBfMr44EE2"
      },
      "execution_count": null,
      "outputs": []
    },
    {
      "cell_type": "code",
      "source": [
        "### 12. Write a program that demonstrates using multiple except blocks to handle different types of exceptions\n",
        "\n",
        "\n",
        "try:\n",
        "    x = int(\"abc\")\n",
        "    y = 10 / 0\n",
        "except ValueError:\n",
        "    print(\"Invalid value conversion.\")\n",
        "except ZeroDivisionError:\n",
        "    print(\"Cannot divide by zero.\")"
      ],
      "metadata": {
        "id": "M1vG2i8I4IbW"
      },
      "execution_count": null,
      "outputs": []
    },
    {
      "cell_type": "code",
      "source": [
        "### 13. How would you check if a file exists before attempting to read it in Python?\n",
        "\n",
        "import os\n",
        "\n",
        "if os.path.exists(\"data.txt\"):\n",
        "    with open(\"data.txt\", \"r\") as file:\n",
        "        print(file.read())\n",
        "else:\n",
        "    print(\"File does not exist.\")"
      ],
      "metadata": {
        "id": "uVCCOjhz4PVV"
      },
      "execution_count": null,
      "outputs": []
    },
    {
      "cell_type": "code",
      "source": [
        "### 14. Write a program that uses the logging module to log both informational and error messages\n",
        "\n",
        "import logging\n",
        "\n",
        "logging.basicConfig(filename=\"activity.log\", level=logging.DEBUG)\n",
        "\n",
        "logging.info(\"Program started\")\n",
        "try:\n",
        "    result = 10 / 0\n",
        "except ZeroDivisionError:\n",
        "    logging.error(\"Tried to divide by zero.\")"
      ],
      "metadata": {
        "id": "5O8NZLCZ4RU1"
      },
      "execution_count": null,
      "outputs": []
    },
    {
      "cell_type": "code",
      "source": [
        "\n",
        "### 15. Write a Python program that prints the content of a file and handles the case when the file is empty\n",
        "\n",
        "\n",
        "with open(\"sample.txt\", \"r\") as file:\n",
        "    content = file.read()\n",
        "    if not content:\n",
        "        print(\"The file is empty.\")\n",
        "    else:\n",
        "        print(content)"
      ],
      "metadata": {
        "id": "M9duOTGl4Tj1"
      },
      "execution_count": null,
      "outputs": []
    },
    {
      "cell_type": "code",
      "source": [
        "\n",
        "### 16. Demonstrate how to use memory profiling to check the memory usage of a small program\n",
        "\n",
        "from memory_profiler import profile\n",
        "\n",
        "@profile\n",
        "def calculate():\n",
        "    x = [i ** 2 for i in range(10000)]\n",
        "    return x\n",
        "\n",
        "calculate()"
      ],
      "metadata": {
        "id": "6yJE7OaX4Wft"
      },
      "execution_count": null,
      "outputs": []
    },
    {
      "cell_type": "code",
      "source": [
        "\n",
        "### 17. Write a Python program to create and write a list of numbers to a file, one number per line\n",
        "\n",
        "\n",
        "numbers = [1, 2, 3, 4, 5]\n",
        "\n",
        "with open(\"numbers.txt\", \"w\") as file:\n",
        "    for num in numbers:\n",
        "        file.write(f\"{num}\\n\")"
      ],
      "metadata": {
        "id": "314AMzZB4YmF"
      },
      "execution_count": null,
      "outputs": []
    },
    {
      "cell_type": "code",
      "source": [
        "### 18. How would you implement a basic logging setup that logs to a file with rotation after 1MB\n",
        "\n",
        "import logging\n",
        "from logging.handlers import RotatingFileHandler\n",
        "\n",
        "logger = logging.getLogger(\"MyLogger\")\n",
        "logger.setLevel(logging.INFO)\n",
        "\n",
        "handler = RotatingFileHandler(\"mylog.log\", maxBytes=1048576, backupCount=3)\n",
        "logger.addHandler(handler)\n",
        "\n",
        "logger.info(\"This is a log message.\")"
      ],
      "metadata": {
        "id": "Pgt0mylh4iaH"
      },
      "execution_count": null,
      "outputs": []
    },
    {
      "cell_type": "code",
      "source": [
        "\n",
        "### 19. Write a program that handles both IndexError and KeyError using a try-except block\n",
        "\n",
        "\n",
        "data = {\"name\": \"Alice\"}\n",
        "lst = [1, 2, 3]\n",
        "\n",
        "try:\n",
        "    print(lst[5])\n",
        "    print(data[\"age\"])\n",
        "except IndexError:\n",
        "    print(\"List index out of range.\")\n",
        "except KeyError:\n",
        "    print(\"Key not found in dictionary.\")"
      ],
      "metadata": {
        "id": "t1CeZvmY4l2e"
      },
      "execution_count": null,
      "outputs": []
    },
    {
      "cell_type": "code",
      "source": [
        "\n",
        "### 20. How would you open a file and read its contents using a context manager in Python?\n",
        "\n",
        "with open(\"file.txt\", \"r\") as file:\n",
        "    content = file.read()\n",
        "    print(content)"
      ],
      "metadata": {
        "id": "-erG6T904osU"
      },
      "execution_count": null,
      "outputs": []
    },
    {
      "cell_type": "code",
      "source": [
        "### 21. Write a Python program that reads a file and prints the number of occurrences of a specific word\n",
        "\n",
        "\n",
        "word = \"python\"\n",
        "count = 0\n",
        "\n",
        "with open(\"text.txt\", \"r\") as file:\n",
        "    for line in file:\n",
        "        count += line.lower().count(word)\n",
        "\n",
        "print(f\"The word '{word}' occurred {count} times.\")"
      ],
      "metadata": {
        "id": "l2zDEvii4rMu"
      },
      "execution_count": null,
      "outputs": []
    },
    {
      "cell_type": "code",
      "source": [
        "### 22. How can you check if a file is empty before attempting to read its contents?\n",
        "\n",
        "\n",
        "import os\n",
        "\n",
        "if os.stat(\"sample.txt\").st_size == 0:\n",
        "    print(\"File is empty.\")\n",
        "else:\n",
        "    with open(\"sample.txt\", \"r\") as f:\n",
        "        print(f.read())"
      ],
      "metadata": {
        "colab": {
          "base_uri": "https://localhost:8080/",
          "height": 211
        },
        "id": "UgNwIcP54uAm",
        "outputId": "c070b423-bf93-4da0-80aa-817f3c5c8653"
      },
      "execution_count": null,
      "outputs": [
        {
          "output_type": "error",
          "ename": "FileNotFoundError",
          "evalue": "[Errno 2] No such file or directory: 'sample.txt'",
          "traceback": [
            "\u001b[0;31m---------------------------------------------------------------------------\u001b[0m",
            "\u001b[0;31mFileNotFoundError\u001b[0m                         Traceback (most recent call last)",
            "\u001b[0;32m<ipython-input-7-a9bc98e85df7>\u001b[0m in \u001b[0;36m<cell line: 0>\u001b[0;34m()\u001b[0m\n\u001b[1;32m      4\u001b[0m \u001b[0;32mimport\u001b[0m \u001b[0mos\u001b[0m\u001b[0;34m\u001b[0m\u001b[0;34m\u001b[0m\u001b[0m\n\u001b[1;32m      5\u001b[0m \u001b[0;34m\u001b[0m\u001b[0m\n\u001b[0;32m----> 6\u001b[0;31m \u001b[0;32mif\u001b[0m \u001b[0mos\u001b[0m\u001b[0;34m.\u001b[0m\u001b[0mstat\u001b[0m\u001b[0;34m(\u001b[0m\u001b[0;34m\"sample.txt\"\u001b[0m\u001b[0;34m)\u001b[0m\u001b[0;34m.\u001b[0m\u001b[0mst_size\u001b[0m \u001b[0;34m==\u001b[0m \u001b[0;36m0\u001b[0m\u001b[0;34m:\u001b[0m\u001b[0;34m\u001b[0m\u001b[0;34m\u001b[0m\u001b[0m\n\u001b[0m\u001b[1;32m      7\u001b[0m     \u001b[0mprint\u001b[0m\u001b[0;34m(\u001b[0m\u001b[0;34m\"File is empty.\"\u001b[0m\u001b[0;34m)\u001b[0m\u001b[0;34m\u001b[0m\u001b[0;34m\u001b[0m\u001b[0m\n\u001b[1;32m      8\u001b[0m \u001b[0;32melse\u001b[0m\u001b[0;34m:\u001b[0m\u001b[0;34m\u001b[0m\u001b[0;34m\u001b[0m\u001b[0m\n",
            "\u001b[0;31mFileNotFoundError\u001b[0m: [Errno 2] No such file or directory: 'sample.txt'"
          ]
        }
      ]
    },
    {
      "cell_type": "code",
      "source": [
        "\n",
        "### 23. Write a Python program that writes to a log file when an error occurs during file handling.\n",
        "\n",
        "\n",
        "import logging\n",
        "\n",
        "logging.basicConfig(filename=\"file_errors.log\", level=logging.ERROR)\n",
        "\n",
        "try:\n",
        "    with open(\"unknown.txt\", \"r\") as file:\n",
        "        data = file.read()\n",
        "except FileNotFoundError as e:\n",
        "    logging.error(f\"Error occurred: {e}\")\n"
      ],
      "metadata": {
        "colab": {
          "base_uri": "https://localhost:8080/"
        },
        "id": "wuMZ3z2B4wpU",
        "outputId": "8ecc62de-e788-448b-bda4-48efcf7ab107"
      },
      "execution_count": null,
      "outputs": [
        {
          "output_type": "stream",
          "name": "stderr",
          "text": [
            "ERROR:root:Error occurred: [Errno 2] No such file or directory: 'unknown.txt'\n"
          ]
        }
      ]
    }
  ]
}